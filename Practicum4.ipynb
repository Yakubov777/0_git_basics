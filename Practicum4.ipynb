{
 "cells": [
  {
   "cell_type": "code",
   "execution_count": null,
   "id": "c1feef3d",
   "metadata": {},
   "outputs": [],
   "source": [
    "import socket\n",
    "sock = socket.socket()\n",
    "sock.setblocking(1)\n",
    "print('Подключение клиента:')\n",
    "sock.connect(('127.0.0.1', 9090))\n",
    "\n",
    "while True:\n",
    "    print('Для отключения введите \"exit\"')\n",
    "    msg = input('Введите сообщение:')\n",
    "    data=msg.encode()\n",
    "    sock.send(data)\n",
    "    if msg == 'exit':\n",
    "        break\n",
    "    data = sock.recv(1024)\n",
    "    print(f'Сообщение от сервера:', data.decode())\n",
    "\n",
    "print('Отключение клиента')\n",
    "sock.close()"
   ]
  },
  {
   "cell_type": "code",
   "execution_count": null,
   "id": "93bb4711",
   "metadata": {},
   "outputs": [],
   "source": [
    "import socket, threading\n",
    "\n",
    "def receiving():\n",
    "    while True:\n",
    "        try:\n",
    "            msg= sock.recv(1024).decode('utf-8')\n",
    "            if msg == 'login':\n",
    "                sock.send(login.encode('utf-8'))\n",
    "            else:\n",
    "                print(msg)\n",
    "        except:\n",
    "            print(\"The client is disconnected!\")\n",
    "            sock.close()\n",
    "            break\n",
    "\n",
    "def sending():\n",
    "    while True:\n",
    "        phrase=input()\n",
    "        msg=login+':'+phrase\n",
    "        sock.send(msg.encode('utf-8'))\n",
    "        if phrase=='exit':\n",
    "            print(\"The client is disconnected!\")\n",
    "            sock.close()\n",
    "            break\n",
    "login = input(\"Input your login: \")\n",
    "sock = socket.socket(socket.AF_INET, socket.SOCK_STREAM)\n",
    "sock.connect(('127.0.0.1', 9090))\n",
    "threading.Thread(target=receiving).start()\n",
    "threading.Thread(target=sending).start()"
   ]
  },
  {
   "cell_type": "code",
   "execution_count": null,
   "id": "b5aaa560",
   "metadata": {},
   "outputs": [],
   "source": [
    "import socket, threading,sys\n",
    "\n",
    "def server(conn, addr):\n",
    "    while True:\n",
    "        print('Получение данных от клиента')\n",
    "        try:\n",
    "            data = conn.recv(1024)\n",
    "            print('Сообщение от клиента', addr, ':', data.decode)\n",
    "            print('Отправка сообщения клиенту')\n",
    "            conn.send(data)\n",
    "        except (ConnectionResetError, ConnectionAbortedError):\n",
    "            print('Соединение с клиентом прервано')\n",
    "            raise\n",
    "\n",
    "\n",
    "sys.tracebacklimit = 0\n",
    "sock = socket.socket()\n",
    "print('Запуск сервера')\n",
    "sock.bind(('', 9090))\n",
    "print('Начало прослушивания порта')\n",
    "sock.listen(0)\n",
    "while True:\n",
    "    conn, addr = sock.accept()\n",
    "    print(\"Подключение клиента:\",addr)\n",
    "    thread=threading.Thread(target = server, args = (conn, addr), daemon = True)\n",
    "    thread.start()\n",
    "\n",
    "print('Прекращение работы сервера')"
   ]
  }
 ],
 "metadata": {
  "kernelspec": {
   "display_name": "Python 3",
   "language": "python",
   "name": "python3"
  },
  "language_info": {
   "codemirror_mode": {
    "name": "ipython",
    "version": 3
   },
   "file_extension": ".py",
   "mimetype": "text/x-python",
   "name": "python",
   "nbconvert_exporter": "python",
   "pygments_lexer": "ipython3",
   "version": "3.8.8"
  }
 },
 "nbformat": 4,
 "nbformat_minor": 5
}
